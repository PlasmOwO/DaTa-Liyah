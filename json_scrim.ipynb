{
 "cells": [
  {
   "cell_type": "code",
   "execution_count": null,
   "metadata": {},
   "outputs": [],
   "source": [
    "from pymongo import MongoClient\n",
    "import pandas as pd\n",
    "import plotly.express as plty"
   ]
  },
  {
   "cell_type": "code",
   "execution_count": null,
   "metadata": {},
   "outputs": [],
   "source": [
    "def connect_database(database_name : str) :\n",
    "    \"\"\"Create connexion to Mongo Database\n",
    "\n",
    "    Args:\n",
    "        database_name (str): Name of the database\n",
    "\n",
    "    Returns:\n",
    "        Client connexion\n",
    "    \"\"\"\n",
    "    client = MongoClient()\n",
    "    return client[database_name]\n",
    "\n",
    "def get_collection(connection, collection_name : str) :\n",
    "    \"\"\"Connect to a Mongo collection\n",
    "\n",
    "    Args:\n",
    "        connection : Mongo client connection\n",
    "        collection_name (str): Name of the collection\n",
    "\n",
    "    Returns:\n",
    "        _type_: The collection\n",
    "    \"\"\"\n",
    "    return connection[collection_name]"
   ]
  },
  {
   "cell_type": "code",
   "execution_count": null,
   "metadata": {},
   "outputs": [],
   "source": [
    "def read_and_create_dataframe(collection) -> pd.DataFrame :\n",
    "    \"\"\"Read a collection with League of Legends JSON data and create the associated dataframe\n",
    "    Each row correspond to (match,participant) key.\n",
    "\n",
    "    Args:\n",
    "        collection (_type_): Mongo collection\n",
    "\n",
    "    Returns:\n",
    "        pd.DataFrame: DataFrame of the JSON data\n",
    "    \"\"\"\n",
    "    df = pd.DataFrame()\n",
    "    for game in collection.find() :\n",
    "        df = pd.concat([df,pd.json_normalize(game)])\n",
    "    df = df.explode('participants').reset_index(drop=True)\n",
    "    df_participants = pd.json_normalize(df['participants'])\n",
    "    df = pd.concat([df.drop(columns='participants'),df_participants],axis = 1)\n",
    "    df['VISION_WARDS_BOUGHT_IN_GAME'] = df['VISION_WARDS_BOUGHT_IN_GAME'].astype('int')\n",
    "    return df"
   ]
  },
  {
   "cell_type": "code",
   "execution_count": null,
   "metadata": {},
   "outputs": [],
   "source": [
    "connect = connect_database('lol_match_database')\n",
    "scrim_matches = get_collection(connect,\"scrim_matches\")\n",
    "data_scrim_matches = read_and_create_dataframe(scrim_matches)\n",
    "data_scrim_matches"
   ]
  },
  {
   "cell_type": "markdown",
   "metadata": {},
   "source": [
    "### Team dico"
   ]
  },
  {
   "cell_type": "code",
   "execution_count": null,
   "metadata": {},
   "outputs": [],
   "source": [
    "team_scald_dico = {\n",
    "    \"TOP\" : [\"62baa689-290d-5daa-be1a-a9da42fca824\"],\n",
    "    \"JUNGLE\" : [\"90cb66b0-18fd-5689-bf52-c5a80c88cdc5\"],\n",
    "    \"MIDDLE\" : [\"52334604-2f25-5556-8284-90370c43f6eb\"],\n",
    "    \"BOT\": [\"9af56d81-a4c0-5447-b465-dd203dd80c6f\"],\n",
    "    \"SUPPORT\" : [\"950ff368-e5a1-572e-84c1-824a6364dd3b\",\"384dbdbf-bc03-5475-9002-865c1b4c2ae1\"]\n",
    "}"
   ]
  },
  {
   "cell_type": "markdown",
   "metadata": {},
   "source": [
    "### "
   ]
  },
  {
   "cell_type": "code",
   "execution_count": null,
   "metadata": {},
   "outputs": [],
   "source": [
    "def filter_data_on_team(data : pd.DataFrame,team_dict : dict) -> pd.DataFrame :\n",
    "    \"\"\"Filter data based on a team PUUID dictionnary\n",
    "\n",
    "    Args:\n",
    "        data (pd.DataFrame): Input data\n",
    "        team_dict (dict): Dictionnary containing PUUID. Example = {\"TOP\" : [\"9df5d86\"], \"JUNGLE\" : ...}\n",
    "\n",
    "    Returns:\n",
    "        pd.DataFrame: The filtered DataFrame\n",
    "    \"\"\"\n",
    "    return data.loc[data['PUUID'].apply(lambda puuid: any(puuid in sublist for sublist in team_dict.values()))]"
   ]
  },
  {
   "cell_type": "code",
   "execution_count": null,
   "metadata": {},
   "outputs": [],
   "source": [
    "scl = filter_data_on_team(data_scrim_matches,team_scald_dico)"
   ]
  },
  {
   "cell_type": "code",
   "execution_count": null,
   "metadata": {},
   "outputs": [],
   "source": [
    "def get_winrate_by_side(data : pd.DataFrame, chart = False) :\n",
    "    \"\"\"Compute winrate in blue and red side for a dataFrame (usage with team filter)\n",
    "\n",
    "    Args:\n",
    "        data (pd.DataFrame): Filtered team data\n",
    "        chart : Show the figure plot\n",
    "\n",
    "    Returns:\n",
    "        _type_: Return dict of both winrate side\n",
    "    \"\"\"\n",
    "    winrate_blue = data.loc[(data['WIN']=='Win') & (data['TEAM']=='100'),'WIN'].count() / len(data.loc[data['TEAM']=='100']) * 100\n",
    "    winrate_red = data.loc[(data['WIN']=='Win') & (data['TEAM']=='200'),'WIN'].count() / len(data.loc[data['TEAM']=='200']) * 100\n",
    "\n",
    "    if chart : \n",
    "        fig = plty.bar(x=['Blue','Red'], y=[winrate_blue,winrate_red], labels={\"x\" : \"Side\", \"y\" : \"Winrate (%)\"})\n",
    "        fig.show()\n",
    "    return {\"blue\" : float(winrate_blue) , \"red\" : float(winrate_red)}"
   ]
  },
  {
   "cell_type": "code",
   "execution_count": null,
   "metadata": {},
   "outputs": [],
   "source": [
    "get_winrate_by_side(scl, chart=True)"
   ]
  },
  {
   "cell_type": "code",
   "execution_count": null,
   "metadata": {},
   "outputs": [],
   "source": [
    "def table_winrate_champs(data : pd.DataFrame) :\n",
    "    \"\"\"Retrieve and groupby champion from the dataFrame and get number of game and number of win. Use this with filtered data.\n",
    "\n",
    "    Args:\n",
    "        data (pd.DataFrame): The filtered DataFrame\n",
    "\n",
    "    Returns:\n",
    "        list : List from TOP to SUPPORT champions game and winrate\n",
    "    \"\"\"\n",
    "    positions = [\"TOP\",\"JUNGLE\",\"MIDDLE\",\"BOTTOM\",\"UTILITY\"]\n",
    "    top_to_bot_champs = []\n",
    "    for position in positions :\n",
    "\n",
    "        all = data.loc[data['TEAM_POSITION'] == position].groupby(\"SKIN\")['WIN'].count()\n",
    "        win = data.loc[(data['TEAM_POSITION'] == position) & (data['WIN'] == 'Win')].groupby(\"SKIN\")['WIN'].count()\n",
    "\n",
    "        df_player = pd.DataFrame(data= {'Count' : all,'Win' : win}).fillna(0)\n",
    "        df_player = df_player.astype({'Win' : int})\n",
    "\n",
    "\n",
    "        top_to_bot_champs.append(df_player)    \n",
    "    return top_to_bot_champs"
   ]
  },
  {
   "cell_type": "code",
   "execution_count": null,
   "metadata": {},
   "outputs": [],
   "source": [
    "table_winrate_champs(scl)"
   ]
  },
  {
   "cell_type": "code",
   "execution_count": null,
   "metadata": {},
   "outputs": [],
   "source": [
    "def get_nb_pink_bought(data : pd.DataFrame) -> list : \n",
    "    \"\"\"Function to get the median number of pink bought in all games role by role.\n",
    "\n",
    "    Args:\n",
    "        data (pd.DataFrame): The filtered DataFrame\n",
    "\n",
    "    Returns:\n",
    "        list: List role by role (top - supp) of the median of pink\n",
    "    \"\"\"\n",
    "    \n",
    "    positions = [\"TOP\",\"JUNGLE\",\"MIDDLE\",\"BOTTOM\",\"UTILITY\"]\n",
    "    top_to_bot_pink_median = []\n",
    "\n",
    "    for position in positions :\n",
    "        top_to_bot_pink_median.append(data.loc[data['TEAM_POSITION'] == position, 'VISION_WARDS_BOUGHT_IN_GAME'].median())\n",
    "    return top_to_bot_pink_median"
   ]
  },
  {
   "cell_type": "code",
   "execution_count": null,
   "metadata": {},
   "outputs": [],
   "source": [
    "get_nb_pink_bought(scl)"
   ]
  }
 ],
 "metadata": {
  "kernelspec": {
   "display_name": "Python 3",
   "language": "python",
   "name": "python3"
  },
  "language_info": {
   "codemirror_mode": {
    "name": "ipython",
    "version": 3
   },
   "file_extension": ".py",
   "mimetype": "text/x-python",
   "name": "python",
   "nbconvert_exporter": "python",
   "pygments_lexer": "ipython3",
   "version": "3.12.4"
  }
 },
 "nbformat": 4,
 "nbformat_minor": 2
}
