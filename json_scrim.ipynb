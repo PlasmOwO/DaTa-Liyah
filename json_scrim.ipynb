{
 "cells": [
  {
   "cell_type": "code",
   "execution_count": 1,
   "metadata": {},
   "outputs": [],
   "source": [
    "from pymongo import MongoClient\n",
    "import pandas as pd\n",
    "import plotly.express as plty"
   ]
  },
  {
   "cell_type": "code",
   "execution_count": 2,
   "metadata": {},
   "outputs": [],
   "source": [
    "def connect_database(database_name : str) :\n",
    "    \"\"\"Create connexion to Mongo Database\n",
    "\n",
    "    Args:\n",
    "        database_name (str): Name of the database\n",
    "\n",
    "    Returns:\n",
    "        Client connexion\n",
    "    \"\"\"\n",
    "    client = MongoClient()\n",
    "    return client[database_name]\n",
    "\n",
    "def get_collection(connection, collection_name : str) :\n",
    "    \"\"\"Connect to a Mongo collection\n",
    "\n",
    "    Args:\n",
    "        connection : Mongo client connection\n",
    "        collection_name (str): Name of the collection\n",
    "\n",
    "    Returns:\n",
    "        _type_: The collection\n",
    "    \"\"\"\n",
    "    return connection[collection_name]"
   ]
  },
  {
   "cell_type": "code",
   "execution_count": 3,
   "metadata": {},
   "outputs": [],
   "source": [
    "def read_and_create_dataframe(collection) -> pd.DataFrame :\n",
    "    \"\"\"Read a collection with League of Legends JSON data and create the associated dataframe\n",
    "    Each row correspond to (match,participant) key.\n",
    "\n",
    "    Args:\n",
    "        collection (_type_): Mongo collection\n",
    "\n",
    "    Returns:\n",
    "        pd.DataFrame: DataFrame of the JSON data\n",
    "    \"\"\"\n",
    "    df = pd.DataFrame()\n",
    "    for game in collection.find() :\n",
    "        df = pd.concat([df,pd.json_normalize(game)])\n",
    "    df = df.explode('participants').reset_index(drop=True)\n",
    "    df_participants = pd.json_normalize(df['participants'])\n",
    "    df = pd.concat([df.drop(columns='participants'),df_participants],axis = 1)\n",
    "    df['VISION_WARDS_BOUGHT_IN_GAME'] = df['VISION_WARDS_BOUGHT_IN_GAME'].astype('int')\n",
    "    return df"
   ]
  },
  {
   "cell_type": "code",
   "execution_count": null,
   "metadata": {},
   "outputs": [],
   "source": [
    "connect = connect_database('lol_match_database')\n",
    "scrim_matches = get_collection(connect,\"scrim_matches\")\n",
    "data_scrim_matches = read_and_create_dataframe(scrim_matches)\n",
    "data_scrim_matches"
   ]
  },
  {
   "cell_type": "markdown",
   "metadata": {},
   "source": [
    "### Team dico"
   ]
  },
  {
   "cell_type": "code",
   "execution_count": 5,
   "metadata": {},
   "outputs": [],
   "source": [
    "team_scald_dico = {\n",
    "    \"TOP\" : [\"62baa689-290d-5daa-be1a-a9da42fca824\"],\n",
    "    \"JUNGLE\" : [\"90cb66b0-18fd-5689-bf52-c5a80c88cdc5\"],\n",
    "    \"MIDDLE\" : [\"52334604-2f25-5556-8284-90370c43f6eb\"],\n",
    "    \"BOTTOM\": [\"9af56d81-a4c0-5447-b465-dd203dd80c6f\"],\n",
    "    \"UTILITY\" : [\"950ff368-e5a1-572e-84c1-824a6364dd3b\",\"384dbdbf-bc03-5475-9002-865c1b4c2ae1\"]\n",
    "}"
   ]
  },
  {
   "cell_type": "markdown",
   "metadata": {},
   "source": [
    "### "
   ]
  },
  {
   "cell_type": "code",
   "execution_count": 6,
   "metadata": {},
   "outputs": [],
   "source": [
    "def filter_data_on_team(data : pd.DataFrame,team_dict : dict) -> pd.DataFrame :\n",
    "    \"\"\"Filter data based on a team PUUID dictionnary\n",
    "\n",
    "    Args:\n",
    "        data (pd.DataFrame): Input data\n",
    "        team_dict (dict): Dictionnary containing PUUID. Example = {\"TOP\" : [\"9df5d86\"], \"JUNGLE\" : ...}\n",
    "\n",
    "    Returns:\n",
    "        pd.DataFrame: The filtered DataFrame\n",
    "    \"\"\"\n",
    "    return data.loc[data['PUUID'].apply(lambda puuid: any(puuid in sublist for sublist in team_dict.values()))]"
   ]
  },
  {
   "cell_type": "code",
   "execution_count": 7,
   "metadata": {},
   "outputs": [],
   "source": [
    "scl = filter_data_on_team(data_scrim_matches,team_scald_dico)"
   ]
  },
  {
   "cell_type": "code",
   "execution_count": 8,
   "metadata": {},
   "outputs": [],
   "source": [
    "def get_winrate_by_side(data : pd.DataFrame, chart = False) :\n",
    "    \"\"\"Compute winrate in blue and red side for a dataFrame (usage with team filter)\n",
    "\n",
    "    Args:\n",
    "        data (pd.DataFrame): Filtered team data\n",
    "        chart : Show the figure plot\n",
    "\n",
    "    Returns:\n",
    "        _type_: Return dict of both winrate side\n",
    "    \"\"\"\n",
    "    winrate_blue = data.loc[(data['WIN']=='Win') & (data['TEAM']=='100'),'WIN'].count() / len(data.loc[data['TEAM']=='100']) * 100\n",
    "    winrate_red = data.loc[(data['WIN']=='Win') & (data['TEAM']=='200'),'WIN'].count() / len(data.loc[data['TEAM']=='200']) * 100\n",
    "\n",
    "    if chart : \n",
    "        fig = plty.bar(x=['Blue','Red'], y=[winrate_blue,winrate_red], labels={\"x\" : \"Side\", \"y\" : \"Winrate (%)\"})\n",
    "        fig.show()\n",
    "    return {\"blue\" : float(winrate_blue) , \"red\" : float(winrate_red)}"
   ]
  },
  {
   "cell_type": "code",
   "execution_count": null,
   "metadata": {},
   "outputs": [],
   "source": [
    "get_winrate_by_side(scl, chart=True)"
   ]
  },
  {
   "cell_type": "code",
   "execution_count": 10,
   "metadata": {},
   "outputs": [],
   "source": [
    "def table_winrate_champs(data : pd.DataFrame) :\n",
    "    \"\"\"Retrieve and groupby champion from the dataFrame and get number of game and number of win. Use this with filtered data.\n",
    "\n",
    "    Args:\n",
    "        data (pd.DataFrame): The filtered DataFrame\n",
    "\n",
    "    Returns:\n",
    "        list : List from TOP to SUPPORT champions game and winrate\n",
    "    \"\"\"\n",
    "    positions = [\"TOP\",\"JUNGLE\",\"MIDDLE\",\"BOTTOM\",\"UTILITY\"]\n",
    "    top_to_bot_champs = []\n",
    "    for position in positions :\n",
    "\n",
    "        all = data.loc[data['TEAM_POSITION'] == position].groupby(\"SKIN\")['WIN'].count()\n",
    "        win = data.loc[(data['TEAM_POSITION'] == position) & (data['WIN'] == 'Win')].groupby(\"SKIN\")['WIN'].count()\n",
    "\n",
    "        df_player = pd.DataFrame(data= {'Count' : all,'Win' : win}).fillna(0)\n",
    "        df_player = df_player.astype({'Win' : int})\n",
    "\n",
    "\n",
    "        top_to_bot_champs.append(df_player)    \n",
    "    return top_to_bot_champs"
   ]
  },
  {
   "cell_type": "code",
   "execution_count": null,
   "metadata": {},
   "outputs": [],
   "source": [
    "table_winrate_champs(scl)"
   ]
  },
  {
   "cell_type": "code",
   "execution_count": 12,
   "metadata": {},
   "outputs": [],
   "source": [
    "def get_nb_pink_bought(data : pd.DataFrame, chart=False) -> list : \n",
    "    \"\"\"Function to get the median number of pink bought in all games role by role.\n",
    "\n",
    "    Args:\n",
    "        data (pd.DataFrame): The filtered DataFrame\n",
    "        chart (boolean) : Display the chart\n",
    "\n",
    "    Returns:\n",
    "        list: List role by role (top - supp) of the median of pink\n",
    "    \"\"\"\n",
    "    \n",
    "    positions = [\"TOP\",\"JUNGLE\",\"MIDDLE\",\"BOTTOM\",\"UTILITY\"]\n",
    "    top_to_bot_pink_median = []\n",
    "\n",
    "    for position in positions :\n",
    "        top_to_bot_pink_median.append(data.loc[data['TEAM_POSITION'] == position, 'VISION_WARDS_BOUGHT_IN_GAME'].median())\n",
    "    \n",
    "    if chart :\n",
    "        fig = plty.bar(x=positions, y=top_to_bot_pink_median, labels={\"x\" : \"Positions\", \"y\" : \"Median nb of pink\"})\n",
    "        fig.show()\n",
    "    return top_to_bot_pink_median"
   ]
  },
  {
   "cell_type": "code",
   "execution_count": null,
   "metadata": {},
   "outputs": [],
   "source": [
    "get_nb_pink_bought(scl, chart=True)"
   ]
  },
  {
   "cell_type": "code",
   "execution_count": null,
   "metadata": {},
   "outputs": [],
   "source": [
    "def calculate_matchup_winrate(data: pd.DataFrame, team_dict: dict, role: str, enemy_dict: str = None, position_filter: str = None) -> pd.DataFrame:\n",
    "    \"\"\"\n",
    "    Calculate the winrate of a specific role in matchups.\n",
    "\n",
    "    Args:\n",
    "        data (pd.DataFrame): The DataFrame containing the match data.\n",
    "        team_dict (dict): Dictionary mapping roles to player PUUIDs.\n",
    "        role (str): Role to analyze (e.g., \"TOP\", \"JUNGLE\").\n",
    "        chart (bool): Whether to display the result as a chart (currently not implemented).\n",
    "        enemy_dict (str): Optionally specify an enemy champion to filter matchups. If None, all enemies are included.\n",
    "        position_filter (str): Optionally specify a position to filter the allies by (e.g., \"TOP\"). If None, no position filter is applied.\n",
    "\n",
    "    Returns:\n",
    "        pd.DataFrame: A DataFrame containing winrates for each matchup.\n",
    "    \"\"\"\n",
    "    # Step 1: Retrieve allied data for the specified position and optionally filter by position\n",
    "    if position_filter:\n",
    "        role_data = data[(data['PUUID'].isin(team_dict[role])) & (data['TEAM_POSITION'] == position_filter)][['_id', 'SKIN', 'WIN']].copy()\n",
    "    else:\n",
    "        role_data = data[data['PUUID'].isin(team_dict[role])][['_id', 'SKIN', 'WIN']].copy()\n",
    "\n",
    "    # Step 2: Retrieve the direct opponents in the specified position\n",
    "    opponent_data = data[\n",
    "        (data['TEAM_POSITION'] == role) & \n",
    "        (~data['PUUID'].isin(team_dict[role]))  # Exclude allies\n",
    "    ][['_id', 'SKIN']].rename(columns={'SKIN': 'ENEMY_CHAMPION'}).copy()\n",
    "\n",
    "    # If a specific enemy champion is provided, filter the opponents\n",
    "    if enemy_dict:\n",
    "        opponent_data = opponent_data[opponent_data['ENEMY_CHAMPION'] == enemy_dict]\n",
    "\n",
    "    # Step 3: Merge the allied data with the opponent data based on \"_id\"\n",
    "    merged_data = pd.merge(role_data, opponent_data, on='_id')\n",
    "\n",
    "    # Step 4: Group by to calculate the number of games played and the wins\n",
    "    matchup_stats = merged_data.groupby(['SKIN', 'ENEMY_CHAMPION']).agg(\n",
    "        GAMES=('WIN', 'count'),\n",
    "        WINS=('WIN', lambda x: (x == 'Win').sum())  # Count the wins\n",
    "    ).reset_index()\n",
    "\n",
    "    # Step 5: Calculate the winrate\n",
    "    matchup_stats['WINRATE'] = (matchup_stats['WINS'] / matchup_stats['GAMES']) * 100\n",
    "\n",
    "    # Step 6: Sort by the number of games played (GAMES)\n",
    "    matchup_stats = matchup_stats.sort_values(by='GAMES', ascending=False)\n",
    "\n",
    "    # Display the result as a table\n",
    "    display(matchup_stats) \n",
    "   \n",
    "\n",
    "    # Return the matchup statistics\n",
    "    return matchup_stats"
   ]
  },
  {
   "cell_type": "code",
   "execution_count": null,
   "metadata": {},
   "outputs": [],
   "source": [
    "matchup_winrate =calculate_matchup_winrate(data_scrim_matches,team_scald_dico,role=\"TOP\")"
   ]
  },
  {
   "cell_type": "code",
   "execution_count": null,
   "metadata": {},
   "outputs": [],
   "source": [
    "def calculate_duo_winrate(filtered_data: pd.DataFrame, roles: tuple = (\"MIDDLE\", \"JUNGLE\")) -> pd.DataFrame:\n",
    "    \"\"\"\n",
    "    Calculate winrate for champion duos in specified roles using pre-filtered data.\n",
    "\n",
    "    Args:\n",
    "        filtered_data (pd.DataFrame): The DataFrame already filtered for the team's matches.\n",
    "        roles (tuple): Roles to analyze (e.g., (\"MIDDLE\", \"JUNGLE\")).\n",
    "\n",
    "    Returns:\n",
    "        pd.DataFrame: A DataFrame containing winrates for each duo.\n",
    "    \"\"\"\n",
    "    # Extract the data for each role directly\n",
    "    role1_data = filtered_data[filtered_data['TEAM_POSITION'] == roles[0]][['_id', 'SKIN', 'WIN']].rename(\n",
    "        columns={'SKIN': f\"{roles[0]}_CHAMPION\"}\n",
    "    )\n",
    "    role2_data = filtered_data[filtered_data['TEAM_POSITION'] == roles[1]][['_id', 'SKIN']].rename(\n",
    "        columns={'SKIN': f\"{roles[1]}_CHAMPION\"}\n",
    "    )\n",
    "\n",
    "    # Merge the two roles' data on '_id'\n",
    "    duo_data = pd.merge(role1_data, role2_data, on=\"_id\")\n",
    "\n",
    "    # Group by the duo of champions and calculate stats\n",
    "    duo_stats = duo_data.groupby([f\"{roles[0]}_CHAMPION\", f\"{roles[1]}_CHAMPION\"]).agg(\n",
    "        GAMES=('WIN', 'count'),\n",
    "        WINS=('WIN', lambda x: (x == 'Win').sum())  # Count the wins\n",
    "    ).reset_index()\n",
    "\n",
    "    # Calculate the winrate\n",
    "    duo_stats['WINRATE'] = (duo_stats['WINS'] / duo_stats['GAMES']) * 100\n",
    "\n",
    "    # Sort by the number of games played\n",
    "    duo_stats = duo_stats.sort_values(by='GAMES', ascending=False)\n",
    "\n",
    "    # Display the result\n",
    "    display(duo_stats)\n",
    "\n",
    "    # Return the duo statistics\n",
    "    return duo_stats"
   ]
  },
  {
   "cell_type": "code",
   "execution_count": null,
   "metadata": {},
   "outputs": [],
   "source": [
    "duo_stats = calculate_duo_winrate(filter_data_on_team(data_scrim_matches,team_scald_dico), roles=(\"JUNGLE\", \"MIDDLE\"))"
   ]
  }
 ],
 "metadata": {
  "kernelspec": {
   "display_name": "base",
   "language": "python",
   "name": "python3"
  },
  "language_info": {
   "codemirror_mode": {
    "name": "ipython",
    "version": 3
   },
   "file_extension": ".py",
   "mimetype": "text/x-python",
   "name": "python",
   "nbconvert_exporter": "python",
   "pygments_lexer": "ipython3",
   "version": "3.10.9"
  }
 },
 "nbformat": 4,
 "nbformat_minor": 2
}
