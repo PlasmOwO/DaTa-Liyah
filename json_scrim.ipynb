{
 "cells": [
  {
   "cell_type": "code",
   "execution_count": null,
   "metadata": {},
   "outputs": [],
   "source": [
    "from pymongo import MongoClient\n",
    "import pandas as pd"
   ]
  },
  {
   "cell_type": "code",
   "execution_count": null,
   "metadata": {},
   "outputs": [],
   "source": [
    "def connect_database(database_name : str) :\n",
    "    \"\"\"Create connexion to Mongo Database\n",
    "\n",
    "    Args:\n",
    "        database_name (str): Name of the database\n",
    "\n",
    "    Returns:\n",
    "        Client connexion\n",
    "    \"\"\"\n",
    "    client = MongoClient()\n",
    "    return client[database_name]\n",
    "\n",
    "def get_collection(connection, collection_name : str) :\n",
    "    \"\"\"Connect to a Mongo collection\n",
    "\n",
    "    Args:\n",
    "        connection : Mongo client connection\n",
    "        collection_name (str): Name of the collection\n",
    "\n",
    "    Returns:\n",
    "        _type_: The collection\n",
    "    \"\"\"\n",
    "    return connection[collection_name]"
   ]
  },
  {
   "cell_type": "code",
   "execution_count": null,
   "metadata": {},
   "outputs": [],
   "source": [
    "def read_and_create_dataframe(collection) -> pd.DataFrame :\n",
    "    \"\"\"Read a collection with League of Legends JSON data and create the associated dataframe\n",
    "    Each row correspond to (match,participant) key.\n",
    "\n",
    "    Args:\n",
    "        collection (_type_): Mongo collection\n",
    "\n",
    "    Returns:\n",
    "        pd.DataFrame: DataFrame of the JSON data\n",
    "    \"\"\"\n",
    "    df = pd.DataFrame()\n",
    "    for game in collection.find() :\n",
    "        df = pd.concat([df,pd.json_normalize(game)])\n",
    "    df = df.explode('participants').reset_index(drop=True)\n",
    "    df_participants = pd.json_normalize(df['participants'])\n",
    "    df = pd.concat([df.drop(columns='participants'),df_participants],axis = 1)\n",
    "    return df"
   ]
  },
  {
   "cell_type": "code",
   "execution_count": null,
   "metadata": {},
   "outputs": [],
   "source": [
    "connect = connect_database('lol_match_database')\n",
    "scrim_matches = get_collection(connect,\"scrim_matches\")\n",
    "data_scrim_matches = read_and_create_dataframe(scrim_matches)\n",
    "data_scrim_matches"
   ]
  },
  {
   "cell_type": "code",
   "execution_count": null,
   "metadata": {},
   "outputs": [],
   "source": [
    "data_scrim_matches['PUUID']"
   ]
  },
  {
   "cell_type": "markdown",
   "metadata": {},
   "source": [
    "### Team dico"
   ]
  },
  {
   "cell_type": "code",
   "execution_count": null,
   "metadata": {},
   "outputs": [],
   "source": [
    "team_scald_dico = {\n",
    "    \"TOP\" : [\"62baa689-290d-5daa-be1a-a9da42fca824\"],\n",
    "    \"JUNGLE\" : [\"90cb66b0-18fd-5689-bf52-c5a80c88cdc5\"],\n",
    "    \"MIDDLE\" : [\"52334604-2f25-5556-8284-90370c43f6eb\"],\n",
    "    \"BOT\": [\"9af56d81-a4c0-5447-b465-dd203dd80c6f\"],\n",
    "    \"SUPPORT\" : [\"950ff368-e5a1-572e-84c1-824a6364dd3b\"]\n",
    "}"
   ]
  },
  {
   "cell_type": "markdown",
   "metadata": {},
   "source": [
    "### "
   ]
  },
  {
   "cell_type": "code",
   "execution_count": null,
   "metadata": {},
   "outputs": [],
   "source": [
    "def filter_data_on_team(data : pd.DataFrame,team_dict : dict) -> pd.DataFrame :\n",
    "    \"\"\"Filter data based on a team PUUID dictionnary\n",
    "\n",
    "    Args:\n",
    "        data (pd.DataFrame): Input data\n",
    "        team_dict (dict): Dictionnary containing PUUID. Example = {\"TOP\" : [\"9df5d86\"], \"JUNGLE\" : ...}\n",
    "\n",
    "    Returns:\n",
    "        pd.DataFrame: The filtered DataFrame\n",
    "    \"\"\"\n",
    "    return data.loc[data['PUUID'].apply(lambda puuid: any(puuid in sublist for sublist in team_dict.values()))]"
   ]
  },
  {
   "cell_type": "code",
   "execution_count": null,
   "metadata": {},
   "outputs": [],
   "source": [
    "scl = filter_data_on_team(data_scrim_matches,team_scald_dico)"
   ]
  },
  {
   "cell_type": "code",
   "execution_count": null,
   "metadata": {},
   "outputs": [],
   "source": [
    "def get_winrate_by_side(data : pd.DataFrame) :\n",
    "    \"\"\"Compute winrate in blue and red side for a dataFrame (usage with team filter)\n",
    "\n",
    "    Args:\n",
    "        data (pd.DataFrame): _description_\n",
    "\n",
    "    Returns:\n",
    "        _type_: _description_\n",
    "    \"\"\"\n",
    "    pass\n",
    "    return #{\"blue\" : float(winrate_blue) , \"red\" : float(winrate_red)}"
   ]
  },
  {
   "cell_type": "code",
   "execution_count": null,
   "metadata": {},
   "outputs": [],
   "source": [
    "get_winrate_by_side(scl)"
   ]
  },
  {
   "cell_type": "code",
   "execution_count": null,
   "metadata": {},
   "outputs": [],
   "source": []
  }
 ],
 "metadata": {
  "kernelspec": {
   "display_name": "Python 3",
   "language": "python",
   "name": "python3"
  },
  "language_info": {
   "codemirror_mode": {
    "name": "ipython",
    "version": 3
   },
   "file_extension": ".py",
   "mimetype": "text/x-python",
   "name": "python",
   "nbconvert_exporter": "python",
   "pygments_lexer": "ipython3",
   "version": "3.12.4"
  }
 },
 "nbformat": 4,
 "nbformat_minor": 2
}
