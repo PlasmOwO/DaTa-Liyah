{
 "cells": [
  {
   "cell_type": "code",
   "execution_count": 8,
   "metadata": {},
   "outputs": [],
   "source": [
    "from pymongo import MongoClient\n",
    "import pandas as pd"
   ]
  },
  {
   "cell_type": "code",
   "execution_count": 80,
   "metadata": {},
   "outputs": [],
   "source": [
    "def connect_database(database_name : str):\n",
    "    client = MongoClient()\n",
    "    return client[database_name]\n",
    "\n",
    "def get_collection(connection, collection_name : str) :\n",
    "    return connection[collection_name]"
   ]
  },
  {
   "cell_type": "code",
   "execution_count": 101,
   "metadata": {},
   "outputs": [],
   "source": [
    "def read_and_create_dataframe(collection):\n",
    "    df = pd.DataFrame()\n",
    "    for game in collection.find() :\n",
    "        df = pd.concat([df,pd.json_normalize(game)])\n",
    "    df = df.explode('participants').reset_index(drop=True)\n",
    "    df_participants = pd.json_normalize(df['participants'])\n",
    "    df = pd.concat([df.drop(columns='participants'),df_participants],axis = 1)\n",
    "    return df"
   ]
  },
  {
   "cell_type": "code",
   "execution_count": null,
   "metadata": {},
   "outputs": [],
   "source": [
    "connect = connect_database('lol_match_database')\n",
    "scrim_matches = get_collection(connect,\"scrim_matches\")\n",
    "data_scrim_matches = read_and_create_dataframe(scrim_matches)\n",
    "data_scrim_matches"
   ]
  }
 ],
 "metadata": {
  "kernelspec": {
   "display_name": "lol_venv",
   "language": "python",
   "name": "python3"
  },
  "language_info": {
   "codemirror_mode": {
    "name": "ipython",
    "version": 3
   },
   "file_extension": ".py",
   "mimetype": "text/x-python",
   "name": "python",
   "nbconvert_exporter": "python",
   "pygments_lexer": "ipython3",
   "version": "3.11.1"
  }
 },
 "nbformat": 4,
 "nbformat_minor": 2
}
